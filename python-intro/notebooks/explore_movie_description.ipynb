{
 "cells": [
  {
   "cell_type": "markdown",
   "metadata": {},
   "source": [
    "## Explore movie description  \n",
    "This notebook is used to initially look at the text data and make some plots and figures to help understand what's in it.\n",
    "\n",
    "To execute each cell, click on it and then type `shift-enter`.  You can insert\n",
    "another code or markdown cell above or below any cell by clicking on `Insert` in the above menu bar."
   ]
  },
  {
   "cell_type": "code",
   "execution_count": null,
   "metadata": {},
   "outputs": [],
   "source": [
    "# first a function to read in a file given a filename\n",
    "\n",
    "def read_the_file(fname):\n",
    "    '''Reads the filename - should have a .txt extension.\n",
    "\n",
    "       Returns a text string containing the entire description.\n",
    "    ''' \n",
    "    f = open(fname, 'r')\n",
    "    textstring = f.read()\n",
    "    return textstring"
   ]
  },
  {
   "cell_type": "code",
   "execution_count": null,
   "metadata": {},
   "outputs": [],
   "source": [
    "# relative path to description\n",
    "path_including_filename = \"../data/train_to_busan_description.txt\"\n",
    "\n",
    "text = read_the_file(path_including_filename)"
   ]
  },
  {
   "cell_type": "code",
   "execution_count": null,
   "metadata": {},
   "outputs": [],
   "source": [
    "text"
   ]
  },
  {
   "cell_type": "code",
   "execution_count": null,
   "metadata": {},
   "outputs": [],
   "source": [
    "# the text has \\n (newlines) in it.  If we print it, the newlines will render\n",
    "print(text)"
   ]
  },
  {
   "cell_type": "markdown",
   "metadata": {},
   "source": [
    "### Clean the text"
   ]
  },
  {
   "cell_type": "code",
   "execution_count": null,
   "metadata": {},
   "outputs": [],
   "source": [
    "# specify how many characters to show after each step (arbitrary)\n",
    "nc = 160\n",
    "\n",
    "# lowercase it\n",
    "text_lc = text.lower()\n",
    "text_lc[:nc]  # show first nc characters"
   ]
  },
  {
   "cell_type": "code",
   "execution_count": null,
   "metadata": {},
   "outputs": [],
   "source": [
    "# remove punctuation\n",
    "from string import punctuation\n",
    "\n",
    "text_np = ''.join([ch for ch in text_lc if ch not in punctuation])\n",
    "text_np[:nc]"
   ]
  },
  {
   "cell_type": "code",
   "execution_count": null,
   "metadata": {},
   "outputs": [],
   "source": [
    "# remove newline characters\n",
    "text_nnl = text_np.replace('\\n', ' ')\n",
    "text_nnl[:nc]"
   ]
  },
  {
   "cell_type": "code",
   "execution_count": null,
   "metadata": {},
   "outputs": [],
   "source": [
    "# split into words\n",
    "words = text_nnl.split(' ')\n",
    "words"
   ]
  },
  {
   "cell_type": "code",
   "execution_count": null,
   "metadata": {},
   "outputs": [],
   "source": [
    "# a function to help summarize the output\n",
    "\n",
    "def print_word_stats(words):\n",
    "    num_words = len(words)\n",
    "    unique_words = set(words)\n",
    "    num_unique_words = len(unique_words)\n",
    "    print(f\"The number of words in the description is {num_words}.\")\n",
    "    print(f\"The number of unique words in the description is {num_unique_words}.\")"
   ]
  },
  {
   "cell_type": "code",
   "execution_count": null,
   "metadata": {},
   "outputs": [],
   "source": [
    "# before removing stopswords\n",
    "print_word_stats(words)"
   ]
  },
  {
   "cell_type": "code",
   "execution_count": null,
   "metadata": {},
   "outputs": [],
   "source": [
    "# remove stopwords\n",
    "from sklearn.feature_extraction.text import ENGLISH_STOP_WORDS\n",
    "stopwords = ENGLISH_STOP_WORDS\n",
    "\n",
    "words_nsw = [word for word in words if word not in stopwords]"
   ]
  },
  {
   "cell_type": "code",
   "execution_count": null,
   "metadata": {},
   "outputs": [],
   "source": [
    "# after removing stopwords\n",
    "print_word_stats(words_nsw)"
   ]
  },
  {
   "cell_type": "code",
   "execution_count": null,
   "metadata": {},
   "outputs": [],
   "source": [
    "words_nsw"
   ]
  },
  {
   "cell_type": "code",
   "execution_count": null,
   "metadata": {},
   "outputs": [],
   "source": [
    "# it looks like '' occurs as a word in many places - remove it\n",
    "words_cleaned = [word for word in words_nsw if word is not '']"
   ]
  },
  {
   "cell_type": "code",
   "execution_count": null,
   "metadata": {},
   "outputs": [],
   "source": [
    "words_cleaned"
   ]
  },
  {
   "cell_type": "code",
   "execution_count": null,
   "metadata": {},
   "outputs": [],
   "source": [
    "# let's get a count of each word in the description\n",
    "# a Counter does just what it sounds like.  It's a dictionary with\n",
    "# the word as a key, and the count as the value.\n",
    "\n",
    "from collections import Counter\n",
    "\n",
    "word_counts = Counter(words_cleaned)"
   ]
  },
  {
   "cell_type": "code",
   "execution_count": null,
   "metadata": {},
   "outputs": [],
   "source": [
    "word_counts"
   ]
  },
  {
   "cell_type": "code",
   "execution_count": null,
   "metadata": {},
   "outputs": [],
   "source": [
    "# let's find the 20 most common, and plot them\n",
    "num = 20\n",
    "most_common = word_counts.most_common(num)"
   ]
  },
  {
   "cell_type": "code",
   "execution_count": null,
   "metadata": {},
   "outputs": [],
   "source": [
    "most_common"
   ]
  },
  {
   "cell_type": "markdown",
   "metadata": {},
   "source": [
    "### Make a bar chart of the most common words"
   ]
  },
  {
   "cell_type": "code",
   "execution_count": null,
   "metadata": {},
   "outputs": [],
   "source": [
    "# pre-processing\n",
    "labels = [tup[0] for tup in most_common]\n",
    "counts = [tup[1] for tup in most_common]\n",
    "print(labels)\n",
    "print(counts)"
   ]
  },
  {
   "cell_type": "code",
   "execution_count": null,
   "metadata": {},
   "outputs": [],
   "source": [
    "# use matplotlib to make a bar chart\n",
    "import matplotlib.pyplot as plt\n",
    "\n",
    "# choose a nice matplotlib style\n",
    "plt.style.use('ggplot')"
   ]
  },
  {
   "cell_type": "code",
   "execution_count": null,
   "metadata": {},
   "outputs": [],
   "source": [
    "# change the default text size (it's usually too small)\n",
    "plt.rcParams.update({'font.size': 14})"
   ]
  },
  {
   "cell_type": "code",
   "execution_count": null,
   "metadata": {},
   "outputs": [],
   "source": [
    "# from \"A simple bar chart\" in your Matplotlib.pdf cheatsheat\n",
    "\n",
    "N = len(labels)\n",
    "fig, ax = plt.subplots(figsize=(12, 6))\n",
    "width = 0.8\n",
    "ticklocations = list(range(N))\n",
    "ax.bar(ticklocations, counts, width, linewidth=4.0, align='center')\n",
    "ax.set_xticks(ticks=ticklocations)\n",
    "ax.set_xticklabels(labels, rotation=90)\n",
    "ax.set_xlim(min(ticklocations)-0.6, max(ticklocations)+0.6)\n",
    "ax.set_yticks(range(N))\n",
    "ax.set_ylim((0,N))\n",
    "ax.yaxis.grid(True)\n",
    "ax.set_xlabel('word')\n",
    "ax.set_ylabel('counts');"
   ]
  },
  {
   "cell_type": "markdown",
   "metadata": {},
   "source": [
    "### Wordcloud visualization\n",
    "A wordcloud is another nice way to visualize the frequency or importance of\n",
    "words in text data. Alt-tab to your Unix/Linux terminal and install a wordcloud\n",
    "utility for Python from the command line:\n",
    "```bash\n",
    "$ conda install -c conda-forge wordcloud\n",
    "```"
   ]
  },
  {
   "cell_type": "code",
   "execution_count": null,
   "metadata": {},
   "outputs": [],
   "source": [
    "# get cleaned words into one-string for wordcloud utility\n",
    "cleaned_text = ' '.join([word for word in words_cleaned])\n",
    "cleaned_text[:nc]"
   ]
  },
  {
   "cell_type": "code",
   "execution_count": null,
   "metadata": {},
   "outputs": [],
   "source": [
    "from wordcloud import WordCloud\n",
    "\n",
    "wordcloud = WordCloud(background_color=\"white\", width=960, height=960, margin=8).generate(cleaned_text)\n",
    "fig, ax = plt.subplots(figsize=(8,8))\n",
    "ax.imshow(wordcloud, interpolation='bilinear')\n",
    "plt.axis(\"off\")\n",
    "plt.margins(x=0, y=0)\n",
    "plt.show()"
   ]
  },
  {
   "cell_type": "code",
   "execution_count": null,
   "metadata": {},
   "outputs": [],
   "source": []
  }
 ],
 "metadata": {
  "kernelspec": {
   "display_name": "Python 3",
   "language": "python",
   "name": "python3"
  },
  "language_info": {
   "codemirror_mode": {
    "name": "ipython",
    "version": 3
   },
   "file_extension": ".py",
   "mimetype": "text/x-python",
   "name": "python",
   "nbconvert_exporter": "python",
   "pygments_lexer": "ipython3",
   "version": "3.7.3"
  }
 },
 "nbformat": 4,
 "nbformat_minor": 4
}
